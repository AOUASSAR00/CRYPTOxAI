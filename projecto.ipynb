{
 "cells": [
  {
   "cell_type": "code",
   "execution_count": null,
   "id": "f9b7fd0c",
   "metadata": {},
   "outputs": [],
   "source": [
    "import requests \n",
    "import pandas as pd"
   ]
  },
  {
   "cell_type": "code",
   "execution_count": null,
   "id": "2bc13d6e",
   "metadata": {},
   "outputs": [],
   "source": [
    "url=\"https://rest.coinapi.io/v1/exchanges\" \n",
    "apikey=\"0A4E3A18-8D52-45A2-9D58-4BB413D55CD0\""
   ]
  },
  {
   "cell_type": "code",
   "execution_count": null,
   "id": "d9196480",
   "metadata": {},
   "outputs": [],
   "source": [
    "R.content\n",
    "#json.loads\n",
    "#json.dumps"
   ]
  }
 ],
 "metadata": {
  "kernelspec": {
   "display_name": "Python 3 (ipykernel)",
   "language": "python",
   "name": "python3"
  },
  "language_info": {
   "codemirror_mode": {
    "name": "ipython",
    "version": 3
   },
   "file_extension": ".py",
   "mimetype": "text/x-python",
   "name": "python",
   "nbconvert_exporter": "python",
   "pygments_lexer": "ipython3",
   "version": "3.9.12"
  }
 },
 "nbformat": 4,
 "nbformat_minor": 5
}
