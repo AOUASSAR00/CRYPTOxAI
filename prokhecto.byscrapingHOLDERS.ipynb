{
 "cells": [
  {
   "cell_type": "code",
   "execution_count": 1,
   "id": "3afc3fa7",
   "metadata": {},
   "outputs": [],
   "source": [
    "#pip install selenium"
   ]
  },
  {
   "cell_type": "code",
   "execution_count": 2,
   "id": "ef9b2791",
   "metadata": {},
   "outputs": [],
   "source": [
    "from selenium.webdriver import Chrome\n",
    "from selenium.common.exceptions import TimeoutException\n",
    "from selenium.webdriver.support import expected_conditions as EC\n",
    "from selenium.webdriver.support.wait import WebDriverWait\n",
    "#to import . + tab --> suggestions\n",
    "#to import + tab --> autocomplete\n",
    "from selenium.webdriver.common.by import By\n",
    "import pandas as pd\n",
    "import tqdm\n",
    "import time\n",
    "import json"
   ]
  },
  {
   "cell_type": "code",
   "execution_count": 3,
   "id": "3d9b95f5",
   "metadata": {},
   "outputs": [
    {
     "data": {
      "text/plain": [
       "0       paris-saint-germain-fan-token\n",
       "1              fc-barcelona-fan-token\n",
       "2           manchester-city-fan-token\n",
       "3               galatasaray-fan-token\n",
       "4                  ac-milan-fan-token\n",
       "                    ...              \n",
       "6856                        aave-busd\n",
       "6857                         aave-dai\n",
       "6858                   phoenix-global\n",
       "6859                             eons\n",
       "6860                         aave-old\n",
       "Name: slug, Length: 6861, dtype: object"
      ]
     },
     "execution_count": 3,
     "metadata": {},
     "output_type": "execute_result"
    }
   ],
   "source": [
    "with open('cat_coin_df.json', 'r', encoding='utf8') as f:\n",
    "    cat_coin_df=pd.DataFrame(json.load(f))\n",
    "    \n",
    "    \n",
    "cat_coin_df['slug']\n",
    "#cat_coin_df['name_coin']"
   ]
  },
  {
   "cell_type": "code",
   "execution_count": 4,
   "id": "ea4fe171",
   "metadata": {},
   "outputs": [],
   "source": [
    "driver=Chrome()\n",
    "#driver=Chrome(\"chromedriver way\")"
   ]
  },
  {
   "cell_type": "code",
   "execution_count": null,
   "id": "bc55fe2b",
   "metadata": {},
   "outputs": [
    {
     "name": "stderr",
     "output_type": "stream",
     "text": [
      "  1%|▊                                                                            | 36/3251 [09:34<14:07:29, 15.82s/it]"
     ]
    }
   ],
   "source": [
    "#study of 1 coin=bitcoin\n",
    "data = []\n",
    "slugs = cat_coin_df['slug'].unique()\n",
    "\n",
    "with tqdm.tqdm(total=len(slugs),position=0,leave=True) as pbar:\n",
    "    #pbzr=progressbar\n",
    "    for X in slugs:\n",
    "        #driver.get(\"https://coinmarketcap.com/currencies/bitcoin/holders/\")\n",
    "        driver.get(f\"https://coinmarketcap.com/currencies/{X}/holders/\")\n",
    "\n",
    "#         holders = driver.find_elements(By.XPATH, \"//h3[text()='Holders Statistics']/following-sibling::div/div\")\n",
    "        #but we want to givve it time to load -->60 auto = 60 SECONDS\n",
    "        try: \n",
    "            holders = WebDriverWait(driver,10).until(EC.presence_of_all_elements_located(\n",
    "                (By.XPATH, \"//h3[text()='Holders Statistics']/following-sibling::div/div\"))\n",
    "            )\n",
    "            #10SEC\n",
    "        except TimeoutException:\n",
    "            pbar.update(1)\n",
    "            continue\n",
    "    \n",
    "        #by-->by which html tag/anchors\n",
    "        #value\n",
    "        holders = [tuple(h.text.split('\\n')) for h in holders]\n",
    "        holders = {' '.join(k): v for *k, v in holders}\n",
    "        #(tuple,t,t)-->hadakchi lib9a kimchi f K par *\n",
    "\n",
    "        holders['slug'] = X\n",
    "\n",
    "        data.append(holders)\n",
    "        pd.DataFrame(data).to_excel(\"holders.xlsx\")\n",
    "                                    #excel extension= xlsx\n",
    "        time.sleep(2)\n",
    "        #2SEC\n",
    "        pbar.update(1)"
   ]
  },
  {
   "cell_type": "code",
   "execution_count": null,
   "id": "3721b754",
   "metadata": {},
   "outputs": [],
   "source": [
    "data\n"
   ]
  },
  {
   "cell_type": "code",
   "execution_count": null,
   "id": "f1a831fc",
   "metadata": {},
   "outputs": [],
   "source": []
  }
 ],
 "metadata": {
  "kernelspec": {
   "display_name": "Python 3 (ipykernel)",
   "language": "python",
   "name": "python3"
  },
  "language_info": {
   "codemirror_mode": {
    "name": "ipython",
    "version": 3
   },
   "file_extension": ".py",
   "mimetype": "text/x-python",
   "name": "python",
   "nbconvert_exporter": "python",
   "pygments_lexer": "ipython3",
   "version": "3.9.12"
  }
 },
 "nbformat": 4,
 "nbformat_minor": 5
}
